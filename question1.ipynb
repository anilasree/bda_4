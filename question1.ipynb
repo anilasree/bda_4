{
 "cells": [
  {
   "cell_type": "code",
   "execution_count": 1,
   "metadata": {},
   "outputs": [
    {
     "name": "stdout",
     "output_type": "stream",
     "text": [
      "Jaccard Distance between A and B is 0.5\n",
      "Jaccard Distance between B and C is 0.5\n",
      "Jaccard Distance between A and C is 0.5\n"
     ]
    }
   ],
   "source": [
    "a=(1,1,0,1,1,0,1,1)\n",
    "b=(0,1,1,1,1,1,1,0)\n",
    "c=(1,0,1,1,0,1,1,1)\n",
    "\n",
    "inter1=0\n",
    "union1=0\n",
    "for i in range(len(a)):\n",
    "    if a[i]==b[i]:\n",
    "        inter1+=1\n",
    "for i in range(len(b)):\n",
    "    if a[i]==1 or b[i]==1:\n",
    "        union1+=1\n",
    "    \n",
    "#print(\"union:\",union1,\" intersection:\",inter1)\n",
    "jacdist=1-(inter1/union1)\n",
    "print(\"Jaccard Distance between A and B is \"+str(jacdist))\n",
    "\n",
    "inter1=0\n",
    "union1=0\n",
    "for i in range(len(b)):\n",
    "    if b[i]==c[i]:\n",
    "        inter1+=1\n",
    "for i in range(len(c)):\n",
    "    if b[i]==1 or c[i]==1:\n",
    "        union1+=1\n",
    "    \n",
    "#print(\"union:\",union1,\" intersection:\",inter1)\n",
    "jacdist=1-(inter1/union1)\n",
    "print(\"Jaccard Distance between B and C is \"+str(jacdist))\n",
    "\n",
    "inter1=0\n",
    "union1=0\n",
    "for i in range(len(a)):\n",
    "    if a[i]==c[i]:\n",
    "        inter1+=1\n",
    "for i in range(len(c)):\n",
    "    if a[i]==1 or c[i]==1:\n",
    "        union1+=1\n",
    "    \n",
    "#print(\"union:\",union1,\" intersection:\",inter1)\n",
    "jacdist=1-(inter1/union1)\n",
    "print(\"Jaccard Distance between A and C is \"+str(jacdist))"
   ]
  },
  {
   "cell_type": "code",
   "execution_count": 2,
   "metadata": {},
   "outputs": [],
   "source": [
    "def Dot(s1,s2):\n",
    "    dot=0;\n",
    "    for i in range(len(s1)):\n",
    "        dot+=s1[i]*s2[i]\n",
    "    return dot"
   ]
  },
  {
   "cell_type": "code",
   "execution_count": 3,
   "metadata": {},
   "outputs": [
    {
     "name": "stdout",
     "output_type": "stream",
     "text": [
      "The Cosine Distance between A and B is 0.6666666666666667\n",
      "The Cosine Distance between B and C is 0.6666666666666667\n",
      "The Cosine Distance between A and C is 0.6666666666666667\n"
     ]
    }
   ],
   "source": [
    "from math import sqrt\n",
    "a=(1,1,0,1,1,0,1,1)\n",
    "b=(0,1,1,1,1,1,1,0)\n",
    "c=(1,0,1,1,0,1,1,1)\n",
    "\n",
    "dotpro=Dot(a,b)\n",
    "den=sqrt(Dot(a,a))* sqrt(Dot(b,b))\n",
    "print(\"The Cosine Distance between A and B is \"+str(dotpro/den))\n",
    "\n",
    "dotpro=Dot(b,c)\n",
    "den=sqrt(Dot(b,b))* sqrt(Dot(c,c))\n",
    "print(\"The Cosine Distance between B and C is \"+str(dotpro/den))\n",
    "\n",
    "dotpro=Dot(a,c)\n",
    "den=sqrt(Dot(a,a))* sqrt(Dot(c,c))\n",
    "print(\"The Cosine Distance between A and C is \"+str(dotpro/den))\n"
   ]
  },
  {
   "cell_type": "code",
   "execution_count": 4,
   "metadata": {},
   "outputs": [
    {
     "name": "stdout",
     "output_type": "stream",
     "text": [
      "union: 5  intersection: 2\n",
      "Jaccard Distance between A and B is 0.6\n",
      "union: 6  intersection: 3\n",
      "Jaccard Distance between B and C is 0.5\n",
      "union: 6  intersection: 4\n",
      "Jaccard Distance between A and C is 0.33333333333333337\n"
     ]
    }
   ],
   "source": [
    "a=(1,1,0,1,0,0,1,0)\n",
    "b=(0,1,1,1,0,0,0,0)\n",
    "c=(0,0,0,1,0,1,1,1)\n",
    "\n",
    "inter1=2\n",
    "union1=5\n",
    "\n",
    "    \n",
    "print(\"union:\",union1,\" intersection:\",inter1)\n",
    "jacdist=1-(inter1/union1)\n",
    "print(\"Jaccard Distance between A and B is \"+str(jacdist))\n",
    "\n",
    "inter1=0\n",
    "union1=0\n",
    "for i in range(len(b)):\n",
    "    if b[i]==c[i]:\n",
    "        inter1+=1\n",
    "for i in range(len(c)):\n",
    "    if b[i]==1 or c[i]==1:\n",
    "        union1+=1\n",
    "    \n",
    "print(\"union:\",union1,\" intersection:\",inter1)\n",
    "jacdist=1-(inter1/union1)\n",
    "print(\"Jaccard Distance between B and C is \"+str(jacdist))\n",
    "\n",
    "inter1=0\n",
    "union1=0\n",
    "for i in range(len(a)):\n",
    "    if a[i]==c[i]:\n",
    "        inter1+=1\n",
    "for i in range(len(c)):\n",
    "    if a[i]==1 or c[i]==1:\n",
    "        union1+=1\n",
    "    \n",
    "print(\"union:\",union1,\" intersection:\",inter1)\n",
    "jacdist=1-(inter1/union1)\n",
    "print(\"Jaccard Distance between A and C is \"+str(jacdist))"
   ]
  },
  {
   "cell_type": "code",
   "execution_count": 6,
   "metadata": {},
   "outputs": [
    {
     "name": "stdout",
     "output_type": "stream",
     "text": [
      "The Cosine Distance between A and B is 0.5773502691896258\n",
      "The Cosine Distance between B and C is 0.2886751345948129\n",
      "The Cosine Distance between A and C is 0.5\n"
     ]
    }
   ],
   "source": [
    "a=(1,1,0,1,0,0,1,0)\n",
    "b=(0,1,1,1,0,0,0,0)\n",
    "c=(0,0,0,1,0,1,1,1)\n",
    "\n",
    "dotpro=Dot(a,b)\n",
    "den=sqrt(Dot(a,a))* sqrt(Dot(b,b))\n",
    "print(\"The Cosine Distance between A and B is \"+str(dotpro/den))\n",
    "\n",
    "dotpro=Dot(b,c)\n",
    "den=sqrt(Dot(b,b))* sqrt(Dot(c,c))\n",
    "print(\"The Cosine Distance between B and C is \"+str(dotpro/den))\n",
    "\n",
    "dotpro=Dot(a,c)\n",
    "den=sqrt(Dot(a,a))* sqrt(Dot(c,c))\n",
    "print(\"The Cosine Distance between A and C is \"+str(dotpro/den))"
   ]
  },
  {
   "cell_type": "code",
   "execution_count": 7,
   "metadata": {},
   "outputs": [
    {
     "name": "stdout",
     "output_type": "stream",
     "text": [
      "[1.5, 2.5, 0, 2.5, -1.5, 0, 0.5, -0.5]\n",
      "[0, 1.25, 2.25, 1.25, -0.75, 0.25, -0.75, 0]\n",
      "[-0.25, 0, -1.25, 0.75, 0, 1.75, 2.75, 0.75]\n"
     ]
    }
   ],
   "source": [
    "a=[4,5,0,5,1,0,3,2]\n",
    "b=[0,3,4,3,1,2,1,0]\n",
    "c=[2,0,1,3,0,4,5,3]\n",
    "\n",
    "def Avg(s1):\n",
    "    avg=0;\n",
    "    for i in range(len(s1)):\n",
    "        avg+=s1[i]\n",
    "    avg=avg/len(s1)\n",
    "    return avg\n",
    "\n",
    "def List_crte(s1):\n",
    "    l=list()\n",
    "    for i in s1:\n",
    "        if(i is not 0):\n",
    "            l.append(i-Avg(s1))\n",
    "        else:\n",
    "            l.append(0)\n",
    "    return l\n",
    "\n",
    "A=List_crte(a)\n",
    "B=List_crte(b)\n",
    "C=List_crte(c)\n",
    "print(A)\n",
    "print(B)\n",
    "print(C)"
   ]
  },
  {
   "cell_type": "code",
   "execution_count": 8,
   "metadata": {},
   "outputs": [
    {
     "name": "stdout",
     "output_type": "stream",
     "text": [
      "The Cosine Distance between A and B is 0.5465040408511785\n",
      "The Cosine Distance between B and C is -0.31256152042413066\n",
      "The Cosine Distance between A and C is 0.16340829138365012\n"
     ]
    }
   ],
   "source": [
    "a=(1.5, 2.5, 0, 2.5, -1.5, 0, 0.5, -0.5)\n",
    "b=(0, 1.25, 2.25, 1.25, -0.75, 0.25, -0.75, 0)\n",
    "c=(-0.25, 0, -1.25, 0.75, 0, 1.75, 2.75, 0.75)\n",
    "\n",
    "dotpro=Dot(a,b)\n",
    "den=sqrt(Dot(a,a))* sqrt(Dot(b,b))\n",
    "print(\"The Cosine Distance between A and B is \"+str(dotpro/den))\n",
    "\n",
    "dotpro=Dot(b,c)\n",
    "den=sqrt(Dot(b,b))* sqrt(Dot(c,c))\n",
    "print(\"The Cosine Distance between B and C is \"+str(dotpro/den))\n",
    "\n",
    "dotpro=Dot(a,c)\n",
    "den=sqrt(Dot(a,a))* sqrt(Dot(c,c))\n",
    "print(\"The Cosine Distance between A and C is \"+str(dotpro/den))"
   ]
  },
  {
   "cell_type": "code",
   "execution_count": null,
   "metadata": {},
   "outputs": [],
   "source": []
  }
 ],
 "metadata": {
  "kernelspec": {
   "display_name": "Python 3",
   "language": "python",
   "name": "python3"
  },
  "language_info": {
   "codemirror_mode": {
    "name": "ipython",
    "version": 3
   },
   "file_extension": ".py",
   "mimetype": "text/x-python",
   "name": "python",
   "nbconvert_exporter": "python",
   "pygments_lexer": "ipython3",
   "version": "3.7.3"
  }
 },
 "nbformat": 4,
 "nbformat_minor": 2
}
